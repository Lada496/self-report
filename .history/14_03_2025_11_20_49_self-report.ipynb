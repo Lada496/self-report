{
 "cells": [
  {
   "cell_type": "markdown",
   "id": "156933e9-49d2-452b-9a82-534b99231055",
   "metadata": {},
   "source": [
    "# Predicting Usage of a Video Game Research Server (Project Planning)"
   ]
  },
  {
   "cell_type": "markdown",
   "id": "ae11e3a5-673f-4d00-b43a-7bb24209af5b",
   "metadata": {},
   "source": [
    "## Data Description\n",
    "A research group in Computer Science at UBC, led by Frank Wood, collected the player's profile and actions with the following format. \n",
    "### Players\n",
    "There are 196 players provided with the following variables. Some categories in gender, such as Agender or Other, have a small number of samples, which might not be enough to perform accurate classification based only on these data. In addition, Age has 2 N/As, which might cause a reduction in sample size due to skipping these data. \n",
    "\n",
    "|**Variable Names**| **Type**  |**Unique Values**| **Min**| **Max**| **Mean**|**NAs**|\n",
    "|------------------|-----------|-----------------|--------|--------|---------|-------|\n",
    "|experience        |categorical|- Amateur(63)<br> - Beginner(35)<br> - Pro(14)<br> - Regular(36)<br> -Veteran(48)               |-       |-       |-        |0      |\n",
    "|subscribe         |categorigal|- TRUE (144)<br> -FALSE (52)       |-       |-       |-        |0      |\n",
    "|hashedEmail       |String     |-                |-       |-       |-        |0      |\n",
    "|played_hours      |numerical  |-                |0.000   |223.100 |5.846    |0      |\n",
    "|name              |String     |-                |-       |-       |-        |0      |\n",
    "|gender            |categorical|-Agender(2)<br> -Female(37)<br> - Male(124)<br> - Non-binary(15)<br> - Other(1)<br> - Prefer not to say(11)<br> - Two-Spirited(6)                 |-       |-       |-        |0      |\n",
    "|Age               |numerical  |-                |8       |50      |20.52    |2      |\n",
    "\n",
    "### Sessions\n",
    "1535 different sessions recorded linked with hashedEmail with the following variables.2 N/As in original_end_time should be skipped if necessary.  \n",
    "|**Variable Names**| **Type**  |**Unique Values**| **Min**| **Max**| **Mean**|**NAs**|\n",
    "|------------------|-----------|-----------------|--------|--------|---------|-------|\n",
    "|hashedEmail       |String     | 125 different hashedEmails recorded | - | - | - | - |\n",
    "|start_time        |String     |-                |-       |-       |-        |-      |\n",
    "|end_time          |String     |-                |-       |-       |-        |-      |\n",
    "|original_start_time|numerical |-                |1.712e+12|1.727e+12|1.719e+12|-    |\n",
    "|original_end_time |numerical  |-                |1.712e+12|1.727e+12|1.719e+12|2    |\n",
    "\n"
   ]
  },
  {
   "cell_type": "markdown",
   "id": "392e590a-c88b-4081-8cc4-445ddd41ed5a",
   "metadata": {},
   "source": [
    "## Questions\n",
    "I chose **question 1**: What player characteristics and behaviours are most predictive of subscribing to a game-related newsletter, and how do these features differ between various player types? More specifically, the question is \"**Can played hours and age predict the subscription status in players dataset?**\" The classification analysis will be carried out with two explanatory variables, age and played_hours, and the response variable subscription. Data needs to be modified to have only three columns related to this research and N/A data should be removed."
   ]
  },
  {
   "cell_type": "markdown",
   "id": "2cd32cd0-6b13-43bc-a995-8a2f7b9a7f4e",
   "metadata": {},
   "source": [
    "## Explanatory Data Analysis and Visualization\n",
    "\n",
    "### Mean tables\n",
    "|**variable name**|**mean**|\n",
    "|-----------------|--------|\n",
    "| played_hours    |5.845918|\n",
    "| Age             |20.52062|\n",
    "\n",
    "### Insights from plots\n",
    "Plot 1 shows that the majority of people played approximately less than 5 hours. There are no non-subscribers who played more than 12 hours, which suggests that playing time could tell who is more likely a subscriber. However, this plot suggests that there is no clue to tell if players who played less than 5 hours are subscribers or not solely with played time. Plot 2 shows that more varieties compared to Plot 1. Overall, the older, the less likely to be subscribers. Last plot shows the relationship between age and playing time, grouping by subscription status. It shows younger people play more and subscribe more than older people in general. One concern is that a large amount of points lie on the 0 hours regardless of subscription status, which might cause low accuracy of prediction.\n"
   ]
  },
  {
   "cell_type": "code",
   "execution_count": null,
   "id": "772d1e2a-39aa-4ec5-9ca2-d964338bd3f9",
   "metadata": {},
   "outputs": [],
   "source": [
    "# set up\n",
    "library(tidyverse)\n",
    "library(readr)\n",
    "library(repr)\n",
    "#options(repr.matrix.max.rows = 6)"
   ]
  },
  {
   "cell_type": "code",
   "execution_count": null,
   "id": "8699f587-36b1-4bc6-bbb0-bda83608c3fb",
   "metadata": {},
   "outputs": [],
   "source": [
    "# Data load\n",
    "url_player <- \"https://raw.githubusercontent.com/Lada496/self-report/main/data/players.csv\"\n",
    "url_sessions <- \"https://raw.githubusercontent.com/Lada496/self-report/main/data/sessions.csv\"\n",
    "players <- read_csv(url_player)\n",
    "sessions <- read_csv(url_sessions)\n",
    "\n",
    "# Compute the mean value for each quantitative variable\n",
    "players_quantitative <- players |> select(played_hours, Age) |>\n",
    "    map_df(mean, na.rm = TRUE)\n",
    "\n",
    "# plots\n",
    "hours_hist <- ggplot(players, aes(x = played_hours, fill = subscribe)) + \n",
    "    geom_histogram()+\n",
    "    labs(x = \"Played Time (hours)\", fill = \"Subscription Status\")+\n",
    "    ggtitle(\"Plot 1: Played Time distrubution with subscription status\")+\n",
    "    theme(plot.title = element_text(size = 18, hjust = 0.5),\n",
    "            plot.margin = margin(t = 20, r = 10, b = 10, l = 30))\n",
    "hours_hist\n",
    "age_hist <- ggplot(players, aes(x = Age, fill = subscribe)) +\n",
    "    geom_histogram()+\n",
    "    labs(x = \"Age\", fill = \"Subscription Status\")+\n",
    "    ggtitle(\"Plot 2: Age distrubution with subscription status\")+\n",
    "    theme(plot.title = element_text(size = 18, hjust = 0.5),\n",
    "            plot.margin = margin(t = 20, r = 10, b = 10, l = 10))\n",
    "\n",
    "age_hist\n",
    "\n",
    "players <- players |>\n",
    "    mutate(subscribe=as_factor(subscribe))\n",
    "\n",
    "players_plot <- players |>\n",
    "    ggplot(aes(x = Age, y= played_hours, color = subscribe)) +\n",
    "    geom_point(alpha = 0.4) + \n",
    "    labs(x = \"Age\", y = \"played time (hours)\", color = \"Subscription Status\") +\n",
    "    ggtitle(\"Plot 3: The relationship between age and played hours\") +\n",
    "    theme(plot.title = element_text(size = 18, hjust = 0.5),\n",
    "            plot.margin = margin(t = 20, r = 10, b = 10, l = 30))\n",
    "\n",
    "players_plot"
   ]
  },
  {
   "cell_type": "markdown",
   "id": "c3b4c9e5-e85f-47a2-8b49-cab08454a9fb",
   "metadata": {},
   "source": [
    "## Methods and Plan\n",
    "\n",
    "Since the question tries to determine whether a person subscribes to Minecraft, we can conduct a k-nearest classification analysis. \n",
    "\n",
    "### Tuning nearest k\n",
    "#### Splitting data into two sets: training and testing\n",
    "To tune the best k, we will conduct cross-validation by splitting the data into two sets: training data and testing data with `initial_split`, `training` and `testing`. The proportion should 75% and `strata` is `subscribe`.\n",
    "The data columns should be correctly selected before splitting the data. In this case, played_hours, age, and subscribe should be chosen.\n",
    "\n",
    "#### Create recipe\n",
    "The response variable is `subscribe,` and the predictors are `age` and `played_hours`. Since the data columns are already selected, `all_predictors()` is chosen for `step_scale` and `step_center`.\n",
    "\n",
    "#### specification with tune()\n",
    "To conduct cross-validation, we'll define the model specification with `nearest_neighbor` and set `tune()` as `neighbors`.\n",
    "\n",
    "#### Getting five folds\n",
    "Then, we'll split the data into five folds with `vfold_cv`, setting `subscribe` to `strata`.\n",
    "\n",
    "#### Getting metrics to check accuracy\n",
    "Collect metrics with `collect_metrics()` after fitting models with the code below:\n",
    "\n",
    "```R\n",
    "vfold_metrics <- workflow() |>\n",
    "                  add_recipe(players_recipe) |>\n",
    "                  add_model(knn_spec) |>\n",
    "                  fit_resamples(resamples = players_vfold) |>\n",
    "                  collect_metrics()\n",
    "```\n",
    "Then, plot the accuracy vs k and find the best k. Also, the code can pull the best k.\n",
    "```R\n",
    "accuracies <- vfold_metrics |>\n",
    "  filter(.metric == \"accuracy\")\n",
    "\n",
    "best_k <- accuracies |>\n",
    "        arrange(desc(mean)) |>\n",
    "        head(1) |>\n",
    "        pull(neighbors)\n",
    "best_k\n",
    "```\n",
    "\n",
    "\n",
    "\n",
    "\n",
    "We will conduct k-nearest classification analysis because the question is a good example of binary classification where the response variables have two classes: true or false subscription status. For this analysis, we'll split data into two: 75% training data and 15 % testing data, find the best k with cross-validation. As the table in the second section shows, this classification may not perform well due to imbalanced classes."
   ]
  },
  {
   "cell_type": "markdown",
   "id": "fbe8cfdb-32fa-403e-8779-54dcfc1d5c61",
   "metadata": {},
   "source": [
    "## Appendicies (Code)"
   ]
  },
  {
   "cell_type": "code",
   "execution_count": null,
   "id": "6a185dc0-22e1-41af-a13e-c014e675cdfe",
   "metadata": {},
   "outputs": [],
   "source": [
    "url_player <- \"https://raw.githubusercontent.com/Lada496/self-report/main/data/players.csv\"\n",
    "url_sessions <- \"https://raw.githubusercontent.com/Lada496/self-report/main/data/sessions.csv\"\n",
    "players <- read_csv(url_player)\n",
    "sessions <- read_csv(url_sessions)\n",
    "\n",
    "table(players$experience)\n",
    "table(players$gender)\n",
    "n_distinct(players$hashedEmail) \n",
    "summary(players)\n",
    "summary(sessions)\n",
    "head(sessions)\n",
    "n_distinct(sessions$hashedEmail) "
   ]
  },
  {
   "cell_type": "code",
   "execution_count": null,
   "id": "d571ae16-dd44-493f-b2a1-e89e87a4b7dd",
   "metadata": {},
   "outputs": [],
   "source": []
  }
 ],
 "metadata": {
  "kernelspec": {
   "display_name": "R",
   "language": "R",
   "name": "ir"
  },
  "language_info": {
   "codemirror_mode": "r",
   "file_extension": ".r",
   "mimetype": "text/x-r-source",
   "name": "R",
   "pygments_lexer": "r",
   "version": "4.3.3"
  }
 },
 "nbformat": 4,
 "nbformat_minor": 5
}
